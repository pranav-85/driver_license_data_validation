{
 "cells": [
  {
   "cell_type": "code",
   "execution_count": 9,
   "id": "3da8a847-6519-4625-8d96-9b8e92680044",
   "metadata": {},
   "outputs": [
    {
     "name": "stdout",
     "output_type": "stream",
     "text": [
      "Requirement already satisfied: roboflow in c:\\users\\msaip\\appdata\\local\\programs\\python\\python311\\lib\\site-packages (1.1.48)\n",
      "Requirement already satisfied: certifi in c:\\users\\msaip\\appdata\\local\\programs\\python\\python311\\lib\\site-packages (from roboflow) (2023.7.22)\n",
      "Requirement already satisfied: idna==3.7 in c:\\users\\msaip\\appdata\\local\\programs\\python\\python311\\lib\\site-packages (from roboflow) (3.7)\n",
      "Requirement already satisfied: cycler in c:\\users\\msaip\\appdata\\local\\programs\\python\\python311\\lib\\site-packages (from roboflow) (0.12.1)\n",
      "Requirement already satisfied: kiwisolver>=1.3.1 in c:\\users\\msaip\\appdata\\local\\programs\\python\\python311\\lib\\site-packages (from roboflow) (1.4.5)\n",
      "Requirement already satisfied: matplotlib in c:\\users\\msaip\\appdata\\local\\programs\\python\\python311\\lib\\site-packages (from roboflow) (3.8.2)\n",
      "Requirement already satisfied: numpy>=1.18.5 in c:\\users\\msaip\\appdata\\local\\programs\\python\\python311\\lib\\site-packages (from roboflow) (1.25.2)\n",
      "Requirement already satisfied: opencv-python-headless==4.10.0.84 in c:\\users\\msaip\\appdata\\local\\programs\\python\\python311\\lib\\site-packages (from roboflow) (4.10.0.84)\n",
      "Requirement already satisfied: Pillow>=7.1.2 in c:\\users\\msaip\\appdata\\local\\programs\\python\\python311\\lib\\site-packages (from roboflow) (10.4.0)\n",
      "Requirement already satisfied: python-dateutil in c:\\users\\msaip\\appdata\\local\\programs\\python\\python311\\lib\\site-packages (from roboflow) (2.8.2)\n",
      "Requirement already satisfied: python-dotenv in c:\\users\\msaip\\appdata\\local\\programs\\python\\python311\\lib\\site-packages (from roboflow) (1.0.1)\n",
      "Requirement already satisfied: requests in c:\\users\\msaip\\appdata\\local\\programs\\python\\python311\\lib\\site-packages (from roboflow) (2.31.0)\n",
      "Requirement already satisfied: six in c:\\users\\msaip\\appdata\\local\\programs\\python\\python311\\lib\\site-packages (from roboflow) (1.16.0)\n",
      "Requirement already satisfied: urllib3>=1.26.6 in c:\\users\\msaip\\appdata\\local\\programs\\python\\python311\\lib\\site-packages (from roboflow) (1.26.20)\n",
      "Requirement already satisfied: tqdm>=4.41.0 in c:\\users\\msaip\\appdata\\local\\programs\\python\\python311\\lib\\site-packages (from roboflow) (4.66.6)\n",
      "Requirement already satisfied: PyYAML>=5.3.1 in c:\\users\\msaip\\appdata\\local\\programs\\python\\python311\\lib\\site-packages (from roboflow) (6.0.1)\n",
      "Requirement already satisfied: requests-toolbelt in c:\\users\\msaip\\appdata\\local\\programs\\python\\python311\\lib\\site-packages (from roboflow) (1.0.0)\n",
      "Requirement already satisfied: filetype in c:\\users\\msaip\\appdata\\local\\programs\\python\\python311\\lib\\site-packages (from roboflow) (1.2.0)\n",
      "Requirement already satisfied: colorama in c:\\users\\msaip\\appdata\\local\\programs\\python\\python311\\lib\\site-packages (from tqdm>=4.41.0->roboflow) (0.4.4)\n",
      "Requirement already satisfied: contourpy>=1.0.1 in c:\\users\\msaip\\appdata\\local\\programs\\python\\python311\\lib\\site-packages (from matplotlib->roboflow) (1.2.0)\n",
      "Requirement already satisfied: fonttools>=4.22.0 in c:\\users\\msaip\\appdata\\local\\programs\\python\\python311\\lib\\site-packages (from matplotlib->roboflow) (4.47.2)\n",
      "Requirement already satisfied: packaging>=20.0 in c:\\users\\msaip\\appdata\\local\\programs\\python\\python311\\lib\\site-packages (from matplotlib->roboflow) (24.1)\n",
      "Requirement already satisfied: pyparsing>=2.3.1 in c:\\users\\msaip\\appdata\\local\\programs\\python\\python311\\lib\\site-packages (from matplotlib->roboflow) (3.1.1)\n",
      "Requirement already satisfied: charset-normalizer<4,>=2 in c:\\users\\msaip\\appdata\\local\\programs\\python\\python311\\lib\\site-packages (from requests->roboflow) (3.2.0)\n"
     ]
    }
   ],
   "source": [
    "!pip install roboflow"
   ]
  },
  {
   "cell_type": "code",
   "execution_count": 77,
   "id": "0cfc4984-ba18-45c8-8686-903737fd3478",
   "metadata": {},
   "outputs": [
    {
     "name": "stdout",
     "output_type": "stream",
     "text": [
      "loading Roboflow workspace...\n",
      "loading Roboflow project...\n"
     ]
    }
   ],
   "source": [
    "from roboflow import Roboflow\n",
    "rf = Roboflow(api_key=\"jJyjVbMQRppa3lA1JR0i\")\n",
    "project = rf.workspace().project(\"driver-s-license-text-extraction-6zjsk\")\n",
    "model = project.version(1).model\n",
    "\n",
    "# infer on a local image\n",
    "pred_data = model.predict(\"sample.jpg\", confidence=40, overlap=30).json()\n",
    "\n",
    "# visualize your prediction\n",
    "model.predict(\"sample.jpg\", confidence=40, overlap=30).save(\"prediction.jpg\")\n",
    "\n",
    "# infer on an image hosted elsewhere\n",
    "# print(model.predict(\"URL_OF_YOUR_IMAGE\", hosted=True, confidence=40, overlap=30).json())"
   ]
  },
  {
   "cell_type": "code",
   "execution_count": 89,
   "id": "44c535f5-4917-45e5-85b7-b6c04e038137",
   "metadata": {},
   "outputs": [
    {
     "name": "stdout",
     "output_type": "stream",
     "text": [
      "Saved cropped image: cropped_images\\Address_1.jpg\n",
      "Saved cropped image: cropped_images\\Issue date_2.jpg\n",
      "Saved cropped image: cropped_images\\License number_3.jpg\n",
      "Saved cropped image: cropped_images\\Exp date_4.jpg\n",
      "Saved cropped image: cropped_images\\First name_5.jpg\n",
      "Saved cropped image: cropped_images\\DOB_6.jpg\n",
      "Saved cropped image: cropped_images\\Last name_7.jpg\n",
      "Saved cropped image: cropped_images\\Sex_8.jpg\n",
      "Saved cropped image: cropped_images\\Class_9.jpg\n"
     ]
    }
   ],
   "source": [
    "import cv2\n",
    "import os\n",
    "\n",
    "# Function to crop the image based on midpoint coordinates\n",
    "def crop_image_by_midpoints(image_path, coordinates, output_dir):\n",
    "    # Load the image using OpenCV\n",
    "    image = cv2.imread(image_path)\n",
    "\n",
    "    # Create the output directory if it doesn't exist\n",
    "    if not os.path.exists(output_dir):\n",
    "        os.makedirs(output_dir)\n",
    "\n",
    "    # Iterate over the coordinates and crop the image\n",
    "    for i, coord in enumerate(coordinates):\n",
    "        # Extract the midpoint coordinates (x, y), and width, height\n",
    "        x = coord['x']\n",
    "        y = coord['y']\n",
    "        width = coord['width']\n",
    "        height = coord['height']\n",
    "\n",
    "        extra = 10\n",
    "        # Calculate the top-left and bottom-right corners based on the midpoint and size\n",
    "        x1 = int(x - width / 2) -extra\n",
    "        y1 = int(y - height / 2)  - extra\n",
    "        x2 = int(x + width / 2) + extra\n",
    "        y2 = int(y + height / 2) + extra\n",
    "\n",
    "        # Ensure that the coordinates are within the image boundaries\n",
    "        x1 = max(0, x1)\n",
    "        y1 = max(0, y1)\n",
    "        x2 = min(image.shape[1], x2)\n",
    "        y2 = min(image.shape[0], y2)\n",
    "\n",
    "        # Crop the image using NumPy array slicing\n",
    "        cropped_image = image[y1:y2, x1:x2]\n",
    "\n",
    "        # Save the cropped image\n",
    "        output_image_path = os.path.join(output_dir, f\"{coord['class']}_{i+1}.jpg\")\n",
    "        cv2.imwrite(output_image_path, cropped_image)\n",
    "        print(f\"Saved cropped image: {output_image_path}\")\n",
    "\n",
    "# Example coordinates (replace this with your actual annotation data)\n",
    "\n",
    "# Path to the image file\n",
    "image_path = 'sample.jpg'\n",
    "\n",
    "# Directory to save cropped images\n",
    "output_dir = 'cropped_images'\n",
    "\n",
    "# Call the function to crop the image based on midpoint coordinates\n",
    "crop_image_by_midpoints(image_path, pred_data['predictions'], output_dir)\n"
   ]
  },
  {
   "cell_type": "code",
   "execution_count": 90,
   "id": "09644a25-f27e-4839-8d4c-5ea08f6287ad",
   "metadata": {},
   "outputs": [
    {
     "name": "stdout",
     "output_type": "stream",
     "text": [
      "Class: Address\n",
      "Extracted Text: 445 EAST CAPITOL AVE\n",
      "PIERRE, SD 57501-0000\n",
      "--------------------------------------------------\n",
      "Class: Class\n",
      "Extracted Text: ang Se\n",
      "\n",
      "oA\n",
      "--------------------------------------------------\n",
      "Class: DOB\n",
      "Extracted Text: \n",
      "--------------------------------------------------\n",
      "Class: Exp date\n",
      "Extracted Text: 01/12/2022\n",
      "--------------------------------------------------\n",
      "Class: First name\n",
      "Extracted Text: ries PIN Pv\n",
      "\n",
      "RAIFAPAL \"ALA RAC\n",
      "--------------------------------------------------\n",
      "Class: Issue date\n",
      "Extracted Text: \n",
      "--------------------------------------------------\n",
      "Class: Last name\n",
      "Extracted Text: LASTNAME\n",
      "\n",
      "rime cTaAILA RAT\n",
      "--------------------------------------------------\n",
      "Class: License number\n",
      "Extracted Text: \n",
      "--------------------------------------------------\n",
      "Class: Sex\n",
      "Extracted Text: \n",
      "--------------------------------------------------\n"
     ]
    }
   ],
   "source": [
    "import pytesseract\n",
    "import os\n",
    "from PIL import Image\n",
    "\n",
    "# Path to Tesseract executable (if it's not in your PATH, you'll need to specify the full path)\n",
    "# Example for Windows: pytesseract.pytesseract.tesseract_cmd = r'C:\\Program Files\\Tesseract-OCR\\tesseract.exe'\n",
    "\n",
    "# Function to perform OCR on each image in the cropped_images directory\n",
    "def ocr_on_cropped_images(cropped_images_dir):\n",
    "    # Iterate over all files in the cropped_images directory\n",
    "    for filename in os.listdir(cropped_images_dir):\n",
    "        # Only process image files (you can filter by extensions like .jpg, .jpeg, .png)\n",
    "        if filename.lower().endswith(('.jpg', '.jpeg', '.png')):\n",
    "            image_path = os.path.join(cropped_images_dir, filename)\n",
    "            \n",
    "            try:\n",
    "                # Open the image using PIL\n",
    "                img = Image.open(image_path)\n",
    "                \n",
    "                # Use pytesseract to extract text\n",
    "                text = pytesseract.image_to_string(img)\n",
    "\n",
    "                # Extract the class name from the image filename\n",
    "                # Assuming the class is part of the filename (e.g., 'cropped_License Number_1.jpg')\n",
    "                class_name = filename.split('_')[0]  # This will give the class name between 'cropped' and the index\n",
    "\n",
    "                # Display the extracted text and class name\n",
    "                print(f\"Class: {class_name}\")\n",
    "                print(f\"Extracted Text: {text.strip()}\")\n",
    "                print(\"-\" * 50)\n",
    "\n",
    "            except Exception as e:\n",
    "                print(f\"Error processing {filename}: {e}\")\n",
    "                continue  # Skip the problematic image and move to the next\n",
    "\n",
    "# Path to the cropped_images directory\n",
    "cropped_images_dir = 'cropped_images'\n",
    "\n",
    "# Call the function to perform OCR on the cropped images\n",
    "ocr_on_cropped_images(cropped_images_dir)\n"
   ]
  },
  {
   "cell_type": "code",
   "execution_count": 84,
   "id": "21f28be8-636d-48eb-a802-8417c60d44e1",
   "metadata": {},
   "outputs": [
    {
     "name": "stdout",
     "output_type": "stream",
     "text": [
      "\n"
     ]
    }
   ],
   "source": [
    "image = Image.open('cropped_images/Class_9.jpg')\n",
    "\n",
    "text = pytesseract.image_to_string(image)\n",
    "\n",
    "print(text)"
   ]
  },
  {
   "cell_type": "code",
   "execution_count": null,
   "id": "2ef332ad-594c-4338-b30f-09efa7958ae0",
   "metadata": {},
   "outputs": [],
   "source": []
  }
 ],
 "metadata": {
  "kernelspec": {
   "display_name": "license_det",
   "language": "python",
   "name": "license_det"
  },
  "language_info": {
   "codemirror_mode": {
    "name": "ipython",
    "version": 3
   },
   "file_extension": ".py",
   "mimetype": "text/x-python",
   "name": "python",
   "nbconvert_exporter": "python",
   "pygments_lexer": "ipython3",
   "version": "3.11.4"
  }
 },
 "nbformat": 4,
 "nbformat_minor": 5
}
